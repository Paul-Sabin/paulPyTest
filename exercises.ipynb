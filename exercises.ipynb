{
 "cells": [
  {
   "cell_type": "code",
   "execution_count": 1,
   "metadata": {},
   "outputs": [
    {
     "name": "stdout",
     "output_type": "stream",
     "text": [
      "Paul\n"
     ]
    }
   ],
   "source": [
    "my_name = \"Paul\"\n",
    "print(my_name)"
   ]
  },
  {
   "cell_type": "code",
   "execution_count": 2,
   "metadata": {},
   "outputs": [
    {
     "name": "stdout",
     "output_type": "stream",
     "text": [
      "40\n"
     ]
    }
   ],
   "source": [
    "age = 20\n",
    "print(age)"
   ]
  },
  {
   "cell_type": "code",
   "execution_count": 3,
   "metadata": {},
   "outputs": [
    {
     "name": "stdout",
     "output_type": "stream",
     "text": [
      "8\n"
     ]
    }
   ],
   "source": [
    "julia_age = 32\n",
    "age_diff = age - julia_age\n",
    "print(age_diff)"
   ]
  },
  {
   "cell_type": "code",
   "execution_count": 14,
   "metadata": {},
   "outputs": [
    {
     "name": "stdout",
     "output_type": "stream",
     "text": [
      "You are under 21, Paul\n"
     ]
    }
   ],
   "source": [
    "age = 20\n",
    "if age >= 21:\n",
    "    print(f\"You are over 21, {my_name}\")\n",
    "else:\n",
    "    print(f\"You are under 21, {my_name}\")    \n"
   ]
  },
  {
   "cell_type": "code",
   "execution_count": 17,
   "metadata": {},
   "outputs": [
    {
     "name": "stdout",
     "output_type": "stream",
     "text": [
      "Julia is older than you.\n"
     ]
    }
   ],
   "source": [
    "age = 30\n",
    "if age < julia_age:\n",
    "    print(\"Julia is older than you.\")\n",
    "elif age == julia_age:\n",
    "    print(\"You are the same age as Julia\")\n",
    "else:\n",
    "    print(\"You are older than Julia\")\n"
   ]
  },
  {
   "cell_type": "code",
   "execution_count": 24,
   "metadata": {},
   "outputs": [
    {
     "name": "stdout",
     "output_type": "stream",
     "text": [
      "Cassie\n",
      "Seoho\n",
      "\n",
      "Cassie\n",
      "Killian\n",
      "Lurii\n",
      "Muayad\n",
      "Paul\n",
      "Ranko\n",
      "Seoho\n"
     ]
    }
   ],
   "source": [
    "data_people = ['Paul', 'Cassie', 'Killian', 'Muayad', 'Lurii', 'Ranko', 'Seoho']\n",
    "data_people.sort()\n",
    "print(data_people[0])\n",
    "print(data_people[len(data_people)-1])\n",
    "print()\n",
    "for person in data_people:\n",
    "    print(person) "
   ]
  },
  {
   "cell_type": "code",
   "execution_count": 29,
   "metadata": {},
   "outputs": [
    {
     "name": "stdout",
     "output_type": "stream",
     "text": [
      "26\n",
      "27\n",
      "29\n",
      "29\n",
      "33\n",
      "34\n",
      "40\n",
      "\n",
      "26\n",
      "34\n",
      "40\n"
     ]
    }
   ],
   "source": [
    "age_list = [40, 29, 34, 29, 27, 33, 26]\n",
    "age_list.sort()\n",
    "for age in age_list:\n",
    "    print(age)\n",
    "print()\n",
    "for age in age_list:\n",
    "    if age %2 == 0:\n",
    "        print(age)"
   ]
  },
  {
   "cell_type": "code",
   "execution_count": 3,
   "metadata": {},
   "outputs": [
    {
     "name": "stdout",
     "output_type": "stream",
     "text": [
      "40\n",
      "29\n",
      "34\n",
      "29\n",
      "27\n",
      "33\n",
      "26\n",
      "\n",
      "40\n",
      "34\n",
      "26\n"
     ]
    }
   ],
   "source": [
    "counter = 0\n",
    "age_list = [40, 29, 34, 29, 27, 33, 26]\n",
    "while counter < len(age_list):\n",
    "    print(age_list[counter])\n",
    "    counter +=1\n",
    "print()\n",
    "counter = 0\n",
    "while counter < len(age_list):\n",
    "    if age_list[counter] %2 == 0:\n",
    "        print(age_list[counter])\n",
    "    counter +=1        "
   ]
  },
  {
   "cell_type": "code",
   "execution_count": 8,
   "metadata": {},
   "outputs": [
    {
     "name": "stdout",
     "output_type": "stream",
     "text": [
      "1\n",
      "\n",
      "The lowest number is -13\n"
     ]
    }
   ],
   "source": [
    "some_numbers = [1, 3, 5, 9, 12, 20, 6, -13, 38, 15]\n",
    "lowest = some_numbers[0]\n",
    "for current_number in some_numbers:\n",
    "    if current_number < lowest:\n",
    "        lowest = current_number\n",
    "print()\n",
    "print(f\"The lowest number is {lowest}\")        \n"
   ]
  },
  {
   "cell_type": "code",
   "execution_count": 10,
   "metadata": {},
   "outputs": [
    {
     "name": "stdout",
     "output_type": "stream",
     "text": [
      "\n",
      "The highest number is 1212\n"
     ]
    }
   ],
   "source": [
    "more_numbers = [11, 30, 125, 399, 1212, -323220, 16, -13, 38, 15]\n",
    "highest = some_numbers[0]\n",
    "for current_number in more_numbers:\n",
    "    if current_number > highest:\n",
    "        highest = current_number\n",
    "print()\n",
    "print(f\"The highest number is {highest}\")        \n"
   ]
  },
  {
   "cell_type": "code",
   "execution_count": 11,
   "metadata": {},
   "outputs": [
    {
     "name": "stdout",
     "output_type": "stream",
     "text": [
      "1999\n",
      "1995\n",
      "2005\n",
      "2010\n",
      "2007\n",
      "2006\n",
      "1994\n",
      "1996\n",
      "1979\n",
      "2008\n"
     ]
    }
   ],
   "source": [
    "# Exercise 10\n",
    "customer_ages = [1999, 1995, 2005, 2010, 2007, 2006, 1994, 1996, 1979, 2008]\n",
    "for age in customer_ages:\n",
    "    print(age)"
   ]
  },
  {
   "cell_type": "code",
   "execution_count": 16,
   "metadata": {},
   "outputs": [
    {
     "name": "stdout",
     "output_type": "stream",
     "text": [
      "Bob is 24 years old.\n",
      "Jack is 28 years old.\n",
      "Lisa is 18 years old.\n",
      "Maria is 13 years old.\n",
      "Ben is 16 years old.\n",
      "Emma is 17 years old.\n",
      "Oscar is 29 years old.\n",
      "Amy is 27 years old.\n",
      "Paul is 44 years old.\n",
      "Etta is 15 years old.\n"
     ]
    }
   ],
   "source": [
    "# Exercise 11\n",
    "customer_list = [\n",
    "                    {\"name\": \"Bob\", \"age\": 1999},\n",
    "                    {\"name\": \"Jack\", \"age\": 1995},\n",
    "                    {\"name\": \"Lisa\", \"age\": 2005},\n",
    "                    {\"name\": \"Maria\", \"age\": 2010},\n",
    "                    {\"name\": \"Ben\", \"age\": 2007},\n",
    "                    {\"name\": \"Emma\", \"age\": 2006},\n",
    "                    {\"name\": \"Oscar\", \"age\": 1994},\n",
    "                    {\"name\": \"Amy\", \"age\": 1996},\n",
    "                    {\"name\": \"Paul\", \"age\": 1979},\n",
    "                    {\"name\": \"Etta\", \"age\": 2008}\n",
    "                ]\n",
    "# for customer in customer_list:\n",
    "    # print(customer[\"name\"])\n",
    "    # print(2023 - customer[\"age\"])\n",
    "\n",
    "for customer in customer_list:\n",
    "    print(f\"{customer['name']} is {2023 - customer['age']} years old.\")\n",
    "    \n"
   ]
  },
  {
   "cell_type": "code",
   "execution_count": 22,
   "metadata": {},
   "outputs": [
    {
     "name": "stdout",
     "output_type": "stream",
     "text": [
      "The lowest age is 9\n",
      "And also 9\n",
      "The highest age is 40\n",
      "And also 40\n"
     ]
    }
   ],
   "source": [
    "# Exercise 13\n",
    "\n",
    "ages = [20, 24, 14, 9, 12, 13, 25, 23, 40, 11]\n",
    "\n",
    "lowest_age = ages[0]\n",
    "for current_age in ages:\n",
    "    if current_age < lowest_age:\n",
    "        lowest_age = current_age\n",
    "\n",
    "print(f\"The lowest age is {lowest_age}\")\n",
    "print(f\"And also {min(ages)}\")\n",
    "\n",
    "highest_age = ages[0]\n",
    "for current_age in ages:\n",
    "    if current_age > highest_age:\n",
    "        highest_age = current_age\n",
    "\n",
    "print(f\"The highest age is {highest_age}\")\n",
    "print(f\"And also {max(ages)}\")        "
   ]
  },
  {
   "cell_type": "code",
   "execution_count": 23,
   "metadata": {},
   "outputs": [
    {
     "name": "stdout",
     "output_type": "stream",
     "text": [
      "[15, 13, 16, 18, 19, 10]\n"
     ]
    }
   ],
   "source": [
    "# Exercise 13\n",
    "\n",
    "berlin = [15, 13, 16, 18, 19, 10, 12 ]\n",
    "munich = [7, 13, 15, 20, 19, 18, 10, 16]\n",
    "common_ages = []\n",
    "\n",
    "for current_number in berlin:\n",
    "    if current_number in munich:\n",
    "        common_ages.append(current_number)\n",
    "\n",
    "print(common_ages)        "
   ]
  },
  {
   "cell_type": "code",
   "execution_count": 29,
   "metadata": {},
   "outputs": [
    {
     "name": "stdout",
     "output_type": "stream",
     "text": [
      "[13, 18, 19, 15, 10, 21, 16, 39]\n",
      "\n",
      "[15, 13, 16, 18, 19, 10, 21, 39]\n"
     ]
    }
   ],
   "source": [
    "# Exercise 14\n",
    "\n",
    "ages = [15,13,16,18,19,15,10,21,16,39]\n",
    "had_already = []\n",
    "\n",
    "for age in ages.copy():\n",
    "    if age in had_already:\n",
    "        ages.remove(age)\n",
    "    else:\n",
    "        had_already.append(age)\n",
    "\n",
    "print(ages)\n",
    "# print()\n",
    "# print(had_already)            "
   ]
  },
  {
   "cell_type": "code",
   "execution_count": 34,
   "metadata": {},
   "outputs": [
    {
     "name": "stdout",
     "output_type": "stream",
     "text": [
      "\n",
      "Welcome Jostafa, have a nice day!\n"
     ]
    }
   ],
   "source": [
    "# Exercise 15\n",
    "\n",
    "# welcome('Evelyn') would print- 'Welcome Evelyn, have a nice day!'\n",
    "\n",
    "# def welcome():\n",
    "#     name = input(\"Please enter your name: \")\n",
    "#     print()\n",
    "#     print(f\"Welcome {name}, have a nice day!\")\n",
    "\n",
    "# welcome()  \n",
    "\n",
    "def welcome(name):\n",
    "    print()\n",
    "    print(f\"Welcome {name}, have a nice day!\")\n",
    "\n",
    "# name = \"Jost\"\n",
    "welcome(\"Jostafa\")"
   ]
  },
  {
   "cell_type": "code",
   "execution_count": 40,
   "metadata": {},
   "outputs": [
    {
     "name": "stdout",
     "output_type": "stream",
     "text": [
      "9\n"
     ]
    }
   ],
   "source": [
    "# Exercise 16\n",
    "\n",
    "# def get_length(string):\n",
    "#     print(len(string))\n",
    "\n",
    "def get_length(string):\n",
    "    counter = 0\n",
    "    for letter in string:\n",
    "        counter +=1\n",
    "    print(counter)  \n",
    "      \n",
    "\n",
    "get_length(\"Fabulouso\")"
   ]
  },
  {
   "cell_type": "code",
   "execution_count": 2,
   "metadata": {},
   "outputs": [
    {
     "name": "stdout",
     "output_type": "stream",
     "text": [
      "Yes\n",
      "No\n",
      "Yes\n",
      "That's not a whole number\n"
     ]
    }
   ],
   "source": [
    "# Exercise 17\n",
    "# check_even(6) would print / return 'Yes'\n",
    "\n",
    "def check_even(number):\n",
    "    if number %2 == 0:\n",
    "        print(\"Yes\")\n",
    "    elif number %2 == 1:\n",
    "        print(\"No\")\n",
    "    else:\n",
    "        print(\"That's not a whole number\")   \n",
    "\n",
    "check_even(16)\n",
    "check_even(39)\n",
    "check_even(-8)\n",
    "check_even(1.7)             \n"
   ]
  },
  {
   "cell_type": "code",
   "execution_count": 14,
   "metadata": {},
   "outputs": [
    {
     "name": "stdout",
     "output_type": "stream",
     "text": [
      "The current year is 2023\n",
      "\n",
      "Bob is 24 years old.\n",
      "Jack is 28 years old.\n",
      "Lisa is 18 years old.\n",
      "Maria is 13 years old.\n",
      "Ben is 16 years old.\n",
      "Emma is 17 years old.\n",
      "Oscar is 29 years old.\n",
      "Amy is 27 years old.\n",
      "Paul is 44 years old.\n",
      "Etta is 15 years old.\n",
      "\n",
      "[24, 28, 18, 13, 16, 17, 29, 27, 44, 15]\n",
      "The lowest age is 13\n",
      "The highest age is 44\n",
      "\n",
      "The common ages from the Berlin and Munich lists are [15, 13, 16, 18, 19, 10]\n",
      "\n",
      "The new list of ages with duplicates removed is [13, 18, 19, 15, 10, 21, 16, 39]\n",
      "\n",
      "Welcome Jostephine, have a nice day!\n"
     ]
    }
   ],
   "source": [
    "# Exercise 18 = 11-15 together as a function\n",
    "\n",
    "import datetime\n",
    "\n",
    "today = datetime.date.today()\n",
    "\n",
    "year = today.year\n",
    "\n",
    "print(f\"The current year is {year}\")\n",
    "print()\n",
    "\n",
    "def fiveExercises():\n",
    "\n",
    "    # Exercise 11\n",
    "    customer_list = [\n",
    "                        {\"name\": \"Bob\", \"age\": 1999},\n",
    "                        {\"name\": \"Jack\", \"age\": 1995},\n",
    "                        {\"name\": \"Lisa\", \"age\": 2005},\n",
    "                        {\"name\": \"Maria\", \"age\": 2010},\n",
    "                        {\"name\": \"Ben\", \"age\": 2007},\n",
    "                        {\"name\": \"Emma\", \"age\": 2006},\n",
    "                        {\"name\": \"Oscar\", \"age\": 1994},\n",
    "                        {\"name\": \"Amy\", \"age\": 1996},\n",
    "                        {\"name\": \"Paul\", \"age\": 1979},\n",
    "                        {\"name\": \"Etta\", \"age\": 2008}\n",
    "                    ]\n",
    "    # for customer in customer_list:\n",
    "        # print(customer[\"name\"])\n",
    "        # print(2023 - customer[\"age\"])\n",
    "\n",
    "    # Exercise 12\n",
    "    ages = []    \n",
    "\n",
    "    for customer in customer_list:\n",
    "        print(f\"{customer['name']} is {year - customer['age']} years old.\")\n",
    "        ages.append(year - customer[\"age\"])\n",
    "    print()\n",
    "    print(ages)\n",
    "\n",
    "    lowest_age = ages[0]\n",
    "    for current_age in ages:\n",
    "        if current_age < lowest_age:\n",
    "            lowest_age = current_age\n",
    "\n",
    "    print(f\"The lowest age is {lowest_age}\")\n",
    "    # print(f\"And also {min(ages)}\")\n",
    "\n",
    "    highest_age = ages[0]\n",
    "    for current_age in ages:\n",
    "        if current_age > highest_age:\n",
    "            highest_age = current_age\n",
    "\n",
    "    print(f\"The highest age is {highest_age}\")\n",
    "    # print(f\"And also {max(ages)}\") \n",
    "\n",
    "    # Exercise 13\n",
    "\n",
    "    berlin = [15, 13, 16, 18, 19, 10, 12 ]\n",
    "    munich = [7, 13, 15, 20, 19, 18, 10, 16]\n",
    "    common_ages = []\n",
    "\n",
    "    for current_number in berlin:\n",
    "        if current_number in munich:\n",
    "            common_ages.append(current_number)\n",
    "\n",
    "    print()\n",
    "    print(f\"The common ages from the Berlin and Munich lists are {common_ages}\")\n",
    "    print()\n",
    "    \n",
    "    # Exercise 14\n",
    "\n",
    "    ages = [15,13,16,18,19,15,10,21,16,39]\n",
    "    had_already = []\n",
    "\n",
    "    for age in ages.copy():\n",
    "        if age in had_already:\n",
    "            ages.remove(age)\n",
    "        else:\n",
    "            had_already.append(age)\n",
    "\n",
    "    print(f\"The new list of ages with duplicates removed is {ages}\")\n",
    "    \n",
    "    # Exercise 15\n",
    "    def welcome(name):\n",
    "        print()\n",
    "        print(f\"Welcome {name}, have a nice day!\")\n",
    "\n",
    "    welcome(\"Jostephine\")\n",
    "             \n",
    "                         \n",
    "    \n",
    "fiveExercises()        \n",
    "\n",
    "    \n"
   ]
  },
  {
   "cell_type": "code",
   "execution_count": 19,
   "metadata": {},
   "outputs": [
    {
     "name": "stdout",
     "output_type": "stream",
     "text": [
      "True\n",
      "\n",
      "False\n"
     ]
    }
   ],
   "source": [
    "# Exercise 19\n",
    "# Write a function that takes an input list and value of age to find as input and returns \n",
    "# true or false if the age value is present or not in the list.\n",
    "\n",
    "def findAge(ageList, ageToFind):\n",
    "    print(ageToFind in ageList)\n",
    "\n",
    "findAge([2, 4, 5, -11, 19], -11)\n",
    "print()\n",
    "findAge([2, 4, 5, 11, 19], 299)\n"
   ]
  }
 ],
 "metadata": {
  "kernelspec": {
   "display_name": "skerriesenv",
   "language": "python",
   "name": "python3"
  },
  "language_info": {
   "codemirror_mode": {
    "name": "ipython",
    "version": 3
   },
   "file_extension": ".py",
   "mimetype": "text/x-python",
   "name": "python",
   "nbconvert_exporter": "python",
   "pygments_lexer": "ipython3",
   "version": "3.10.12"
  },
  "orig_nbformat": 4
 },
 "nbformat": 4,
 "nbformat_minor": 2
}
